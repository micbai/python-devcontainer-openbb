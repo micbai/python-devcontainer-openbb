{
 "cells": [
  {
   "cell_type": "code",
   "execution_count": null,
   "id": "ace64bbd",
   "metadata": {},
   "outputs": [],
   "source": [
    "import sys\n",
    "import plotly.graph_objects as go\n",
    "\n",
    "# Sample data\n",
    "x = ['A', 'B', 'C', 'D']\n",
    "y = [10, 15, 7, 12]\n",
    "\n",
    "# Create bar chart\n",
    "fig = go.Figure(data=[go.Bar(x=x, y=y)])\n",
    "\n",
    "fig.show()"
   ]
  }
 ],
 "metadata": {
  "kernelspec": {
   "display_name": "openbb-env",
   "language": "python",
   "name": "python3"
  },
  "language_info": {
   "codemirror_mode": {
    "name": "ipython",
    "version": 3
   },
   "file_extension": ".py",
   "mimetype": "text/x-python",
   "name": "python",
   "nbconvert_exporter": "python",
   "pygments_lexer": "ipython3",
   "version": "3.11.13"
  }
 },
 "nbformat": 4,
 "nbformat_minor": 5
}
