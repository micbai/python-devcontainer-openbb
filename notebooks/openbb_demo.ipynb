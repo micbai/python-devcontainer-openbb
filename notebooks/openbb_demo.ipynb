{
 "cells": [
  {
   "cell_type": "code",
   "execution_count": null,
   "id": "44311304",
   "metadata": {},
   "outputs": [],
   "source": [
    "from openbb import obb\n",
    "obb.user.preferences.output_type = \"dataframe\"\n",
    "\n",
    "# Beispiel: Historische Daten für Siemens (XETRA)\n",
    "data = obb.equity.price.historical(\"SIE.DE\", provider=\"yfinance\", start_date=\"2023-01-01\")\n",
    "data.head()\n"
   ]
  }
 ],
 "metadata": {
  "kernelspec": {
   "display_name": "openbb-env",
   "language": "python",
   "name": "python3"
  },
  "language_info": {
   "codemirror_mode": {
    "name": "ipython",
    "version": 3
   },
   "file_extension": ".py",
   "mimetype": "text/x-python",
   "name": "python",
   "nbconvert_exporter": "python",
   "pygments_lexer": "ipython3",
   "version": "3.11.13"
  }
 },
 "nbformat": 4,
 "nbformat_minor": 5
}
