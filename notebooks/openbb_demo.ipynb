{
 "cells": [
  {
   "cell_type": "code",
   "execution_count": 1,
   "id": "44311304",
   "metadata": {},
   "outputs": [
    {
     "name": "stdout",
     "output_type": "stream",
     "text": [
      "Extensions to add: alpha_vantage@1.4.2, biztoc@1.4.3, cboe@1.4.2, deribit@1.0.2, ecb@1.4.3, econometrics@1.5.4, famafranch@1.0.0, famafrench@1.0.0, finra@1.4.2, finviz@1.3.2, government_us@1.4.2, multpl@1.1.2, nasdaq@1.4.2, openbb_charting@2.3.5, quantitative@1.4.4, sec@1.4.5, seeking_alpha@1.4.2, stockgrid@1.4.2, technical@1.4.4, tmx@1.3.3, tradier@1.3.2, wsj@1.4.2\n",
      "Extensions to remove: sec@1.4.4\n",
      "\n",
      "Building...\n"
     ]
    },
    {
     "data": {
      "text/html": [
       "<div>\n",
       "<style scoped>\n",
       "    .dataframe tbody tr th:only-of-type {\n",
       "        vertical-align: middle;\n",
       "    }\n",
       "\n",
       "    .dataframe tbody tr th {\n",
       "        vertical-align: top;\n",
       "    }\n",
       "\n",
       "    .dataframe thead th {\n",
       "        text-align: right;\n",
       "    }\n",
       "</style>\n",
       "<table border=\"1\" class=\"dataframe\">\n",
       "  <thead>\n",
       "    <tr style=\"text-align: right;\">\n",
       "      <th></th>\n",
       "      <th>open</th>\n",
       "      <th>high</th>\n",
       "      <th>low</th>\n",
       "      <th>close</th>\n",
       "      <th>volume</th>\n",
       "      <th>dividend</th>\n",
       "    </tr>\n",
       "    <tr>\n",
       "      <th>date</th>\n",
       "      <th></th>\n",
       "      <th></th>\n",
       "      <th></th>\n",
       "      <th></th>\n",
       "      <th></th>\n",
       "      <th></th>\n",
       "    </tr>\n",
       "  </thead>\n",
       "  <tbody>\n",
       "    <tr>\n",
       "      <th>2023-01-02</th>\n",
       "      <td>129.839996</td>\n",
       "      <td>130.580002</td>\n",
       "      <td>129.339996</td>\n",
       "      <td>129.820007</td>\n",
       "      <td>837714</td>\n",
       "      <td>0.0</td>\n",
       "    </tr>\n",
       "    <tr>\n",
       "      <th>2023-01-03</th>\n",
       "      <td>131.059998</td>\n",
       "      <td>132.619995</td>\n",
       "      <td>130.440002</td>\n",
       "      <td>130.940002</td>\n",
       "      <td>1426478</td>\n",
       "      <td>0.0</td>\n",
       "    </tr>\n",
       "    <tr>\n",
       "      <th>2023-01-04</th>\n",
       "      <td>132.740005</td>\n",
       "      <td>135.539993</td>\n",
       "      <td>131.800003</td>\n",
       "      <td>135.279999</td>\n",
       "      <td>1523962</td>\n",
       "      <td>0.0</td>\n",
       "    </tr>\n",
       "    <tr>\n",
       "      <th>2023-01-05</th>\n",
       "      <td>134.919998</td>\n",
       "      <td>136.259995</td>\n",
       "      <td>133.979996</td>\n",
       "      <td>134.839996</td>\n",
       "      <td>1056652</td>\n",
       "      <td>0.0</td>\n",
       "    </tr>\n",
       "    <tr>\n",
       "      <th>2023-01-06</th>\n",
       "      <td>134.899994</td>\n",
       "      <td>136.139999</td>\n",
       "      <td>132.919998</td>\n",
       "      <td>136.139999</td>\n",
       "      <td>1263457</td>\n",
       "      <td>0.0</td>\n",
       "    </tr>\n",
       "  </tbody>\n",
       "</table>\n",
       "</div>"
      ],
      "text/plain": [
       "                  open        high         low       close   volume  dividend\n",
       "date                                                                         \n",
       "2023-01-02  129.839996  130.580002  129.339996  129.820007   837714       0.0\n",
       "2023-01-03  131.059998  132.619995  130.440002  130.940002  1426478       0.0\n",
       "2023-01-04  132.740005  135.539993  131.800003  135.279999  1523962       0.0\n",
       "2023-01-05  134.919998  136.259995  133.979996  134.839996  1056652       0.0\n",
       "2023-01-06  134.899994  136.139999  132.919998  136.139999  1263457       0.0"
      ]
     },
     "execution_count": 1,
     "metadata": {},
     "output_type": "execute_result"
    }
   ],
   "source": [
    "from openbb import obb\n",
    "obb.user.preferences.output_type = \"dataframe\"\n",
    "\n",
    "# Beispiel: Historische Daten für Siemens (XETRA)\n",
    "data = obb.equity.price.historical(\"SIE.DE\", provider=\"yfinance\", start_date=\"2023-01-01\")\n",
    "data.head()\n"
   ]
  }
 ],
 "metadata": {
  "kernelspec": {
   "display_name": "openbb-env",
   "language": "python",
   "name": "python3"
  },
  "language_info": {
   "codemirror_mode": {
    "name": "ipython",
    "version": 3
   },
   "file_extension": ".py",
   "mimetype": "text/x-python",
   "name": "python",
   "nbconvert_exporter": "python",
   "pygments_lexer": "ipython3",
   "version": "3.11.13"
  }
 },
 "nbformat": 4,
 "nbformat_minor": 5
}
